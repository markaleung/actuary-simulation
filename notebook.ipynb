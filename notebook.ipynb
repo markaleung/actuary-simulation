{
 "cells": [
  {
   "cell_type": "code",
   "execution_count": null,
   "metadata": {},
   "outputs": [],
   "source": [
    "import Main, Config, Tester, Handler"
   ]
  },
  {
   "cell_type": "markdown",
   "metadata": {},
   "source": [
    "Valid combinations\n",
    "- set_insurance, InsuranceTemplate, InsuranceSomething/Endowment\n",
    "- set_annuity, AnnuityTemplate, AnnuitySomething\n",
    "- set_investment, InvestmentTemplate, Investment\n",
    "- set_multiple, MultipleTemplate, MultipleSomething"
   ]
  },
  {
   "cell_type": "code",
   "execution_count": null,
   "metadata": {},
   "outputs": [],
   "source": [
    "config = Config.Config(simulate=False)\n",
    "# Change config.set_insurance, Main.Insurance to try other types of insurance products\n",
    "config.set_insurance()\n",
    "insurance_policy = Main.Insurance(config = config)\n",
    "insurance_policy.process_df()\n",
    "insurance_policy.calculate_actual_reserves()\n",
    "# insurance_policy.output_df\n",
    "# insurance_policy.input_df"
   ]
  },
  {
   "cell_type": "code",
   "execution_count": null,
   "metadata": {},
   "outputs": [],
   "source": [
    "config = Config.Config(simulate=True)\n",
    "# Change config.set_insurance, Main.InsuranceTemplate, Main.Insurance to try other types of insurance products\n",
    "config.set_insurance()\n",
    "tester = Tester.Tester(config, Handler.make_template)\n",
    "tester.template_class = Main.InsuranceTemplate\n",
    "tester.make_simulations(Main.Insurance)\n",
    "tester.monte_carlo(premium = 2265.98, answer = None)"
   ]
  },
  {
   "cell_type": "code",
   "execution_count": null,
   "metadata": {},
   "outputs": [],
   "source": []
  }
 ],
 "metadata": {
  "kernelspec": {
   "display_name": "venv_mark",
   "language": "python",
   "name": "python3"
  },
  "language_info": {
   "codemirror_mode": {
    "name": "ipython",
    "version": 3
   },
   "file_extension": ".py",
   "mimetype": "text/x-python",
   "name": "python",
   "nbconvert_exporter": "python",
   "pygments_lexer": "ipython3",
   "version": "3.10.9"
  }
 },
 "nbformat": 4,
 "nbformat_minor": 2
}
