{
 "cells": [
  {
   "cell_type": "markdown",
   "metadata": {},
   "source": [
    "Valid combinations of config, template and class\n",
    "- set_insurance, InsuranceTemplate, InsuranceSomething\n",
    "- set_insurance, Endowment\n",
    "- set_annuity, AnnuityTemplate, AnnuitySomething\n",
    "- set_investment, Investment\n",
    "- set_multiple, MultipleTemplate, MultipleSomething\n",
    "\n",
    "Template is required for classes inheriting from InsuranceExpected"
   ]
  },
  {
   "cell_type": "markdown",
   "metadata": {},
   "source": [
    "# Single Simulation"
   ]
  },
  {
   "cell_type": "code",
   "execution_count": null,
   "metadata": {},
   "outputs": [],
   "source": [
    "import Main, Config\n",
    "\n",
    "config = Config.Config(simulate=False)\n",
    "config.set_dfs(random_condition = 'random_dynamic')\n",
    "# Change config.set_insurance, Main.Insurance to try other types of insurance products\n",
    "config.set_insurance()\n",
    "insurance_policy = Main.Insurance(config = config)\n",
    "insurance_policy.process_df()\n",
    "insurance_policy.calculate_actual_reserves()\n",
    "# insurance_policy.output_df\n",
    "# insurance_policy.input_df"
   ]
  },
  {
   "cell_type": "markdown",
   "metadata": {},
   "source": [
    "# 200 Simulations"
   ]
  },
  {
   "cell_type": "code",
   "execution_count": null,
   "metadata": {},
   "outputs": [],
   "source": [
    "import Main, Config, Tester\n",
    "\n",
    "config = Config.Config(simulate=True)\n",
    "config.set_dfs(random_condition = 'random_dynamic')\n",
    "# Change config.set_insurance, Main.InsuranceTemplate, Main.Insurance to try other types of insurance products\n",
    "config.set_insurance()\n",
    "tester = Tester.Tester(config)\n",
    "tester.template_class = Main.InsuranceTemplate\n",
    "tester.make_simulations(Main.Insurance)\n",
    "tester.monte_carlo(premium = 2265.98, answer = None)"
   ]
  },
  {
   "cell_type": "markdown",
   "metadata": {},
   "source": [
    "# Run all simulations for course homeworks"
   ]
  },
  {
   "cell_type": "code",
   "execution_count": null,
   "metadata": {},
   "outputs": [],
   "source": [
    "import Tester\n",
    "\n",
    "for name, class_ in Tester.CLASSES.items():\n",
    "    print(name)\n",
    "    object_ = class_()\n",
    "    object_.main()"
   ]
  },
  {
   "cell_type": "code",
   "execution_count": null,
   "metadata": {},
   "outputs": [],
   "source": [
    "import Tester_Template\n",
    "\n",
    "for name, class_ in Tester_Template.CLASSES.items():\n",
    "    print(name)\n",
    "    object_ = class_()\n",
    "    object_.main()"
   ]
  },
  {
   "cell_type": "code",
   "execution_count": null,
   "metadata": {},
   "outputs": [],
   "source": []
  }
 ],
 "metadata": {
  "kernelspec": {
   "display_name": "venv_mark",
   "language": "python",
   "name": "python3"
  },
  "language_info": {
   "codemirror_mode": {
    "name": "ipython",
    "version": 3
   },
   "file_extension": ".py",
   "mimetype": "text/x-python",
   "name": "python",
   "nbconvert_exporter": "python",
   "pygments_lexer": "ipython3",
   "version": "3.10.9"
  }
 },
 "nbformat": 4,
 "nbformat_minor": 2
}
